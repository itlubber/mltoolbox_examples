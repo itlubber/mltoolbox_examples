{
 "cells": [
  {
   "cell_type": "code",
   "execution_count": null,
   "metadata": {},
   "outputs": [],
   "source": []
  },
  {
   "cell_type": "code",
   "execution_count": null,
   "metadata": {},
   "outputs": [],
   "source": [
    "from functools import wraps\n",
    "\n",
    "import shap\n",
    "from . import ScoreCard\n",
    "\n",
    "shap.initjs()\n",
    "\n",
    "\n",
    "def set_explainer(self, masker=None, explainer=None):\n",
    "    \"\"\"\n",
    "    Parameters\n",
    "    ------------\n",
    "    self : An object that must include an attribute called _explainer which wil1 store the shap explainer of the mode in self.classifier_\n",
    "    masker : The background data for linear mode1s or none for tree models\n",
    "    explainer : The explainer that wi11 be used to explain the model. Automatically set if explainer is None\n",
    "    \"\"\"\n",
    "    "
   ]
  }
 ],
 "metadata": {
  "kernelspec": {
   "display_name": "base",
   "language": "python",
   "name": "python3"
  },
  "language_info": {
   "codemirror_mode": {
    "name": "ipython",
    "version": 3
   },
   "file_extension": ".py",
   "mimetype": "text/x-python",
   "name": "python",
   "nbconvert_exporter": "python",
   "pygments_lexer": "ipython3",
   "version": "3.8.8"
  }
 },
 "nbformat": 4,
 "nbformat_minor": 2
}
